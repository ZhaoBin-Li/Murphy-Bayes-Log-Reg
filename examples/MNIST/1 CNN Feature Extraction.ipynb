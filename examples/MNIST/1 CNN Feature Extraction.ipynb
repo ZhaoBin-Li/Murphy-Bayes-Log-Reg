{
 "cells": [
  {
   "cell_type": "markdown",
   "metadata": {},
   "source": [
    "### Trains a CNN using pytorch on MNIST dataset\n",
    "\n",
    "References: https://pytorch.org/tutorials/beginner/nn_tutorial.html, \n",
    "https://pytorch.org/tutorials/beginner/blitz/cifar10_tutorial.html#sphx-glr-beginner-blitz-cifar10-tutorial-py,\n",
    "https://github.com/pytorch/examples/blob/master/mnist/main.py"
   ]
  },
  {
   "cell_type": "code",
   "execution_count": 1,
   "metadata": {},
   "outputs": [],
   "source": [
    "import os\n",
    "from pathlib import Path\n",
    "\n",
    "import matplotlib.pyplot as plt\n",
    "import numpy as np\n",
    "import torch\n",
    "import torch.nn as nn\n",
    "import torch.nn.functional as F\n",
    "import torch.optim as optim\n",
    "import torchvision\n",
    "import torchvision.transforms as transforms\n",
    "import pickle"
   ]
  },
  {
   "cell_type": "code",
   "execution_count": 2,
   "metadata": {
    "pycharm": {
     "name": "#%%\n"
    }
   },
   "outputs": [],
   "source": [
    "save_dir = Path(\"pretrained\")\n",
    "os.makedirs(save_dir, exist_ok=True)\n",
    "\n",
    "path_to_mnist = Path('dataset')\n",
    "\n",
    "device = torch.device(\n",
    "    \"cuda\") if torch.cuda.is_available() else torch.device(\"cpu\")\n"
   ]
  },
  {
   "cell_type": "code",
   "execution_count": 3,
   "metadata": {},
   "outputs": [],
   "source": [
    "batch_size = 32\n",
    "transform = transforms.ToTensor()\n",
    "trainset = torchvision.datasets.MNIST(path_to_mnist, train=True,\n",
    "                                        download=True, transform=transform)\n",
    "trainloader = torch.utils.data.DataLoader(trainset, batch_size=batch_size,\n",
    "                                         shuffle=True, num_workers=1)\n",
    "\n",
    "valset = torchvision.datasets.MNIST(path_to_mnist, download=True, \n",
    "                                    train=False, transform=transform)\n",
    "valloader = torch.utils.data.DataLoader(valset, batch_size=batch_size,\n",
    "                                         shuffle=False, num_workers=1)\n"
   ]
  },
  {
   "cell_type": "code",
   "execution_count": 4,
   "metadata": {},
   "outputs": [],
   "source": [
    "dataiter = iter(trainloader)\n",
    "images, labels = dataiter.next()"
   ]
  },
  {
   "cell_type": "code",
   "execution_count": 5,
   "metadata": {
    "pycharm": {
     "name": "#%%\n"
    }
   },
   "outputs": [
    {
     "data": {
      "image/png": "[encoded data removed]",
      "text/plain": [
       "<Figure size 432x288 with 1 Axes>"
      ]
     },
     "metadata": {
      "needs_background": "light"
     },
     "output_type": "display_data"
    },
    {
     "name": "stdout",
     "output_type": "stream",
     "text": [
      "tensor([1, 7, 7, 9, 8, 1, 9, 8, 1, 4, 5, 5, 9, 8, 0, 7, 3, 3, 6, 4, 3, 0, 0, 4,\n",
      "        6, 8, 7, 9, 0, 0, 6, 3])\n"
     ]
    }
   ],
   "source": [
    "def show(img):\n",
    "    img = np.transpose(img, (1,2,0))\n",
    "    plt.imshow(img, cmap=\"gray\")\n",
    "    plt.show()\n",
    "    \n",
    "show(torchvision.utils.make_grid(images))\n",
    "print(labels)"
   ]
  },
  {
   "cell_type": "code",
   "execution_count": 6,
   "metadata": {},
   "outputs": [],
   "source": [
    "class MNIST_CNN(nn.Module):\n",
    "    def __init__(self):\n",
    "        super().__init__()\n",
    "        self.conv1 = nn.Conv2d(1, 16, kernel_size=3, stride=2, padding=1)\n",
    "        self.conv2 = nn.Conv2d(16, 16, kernel_size=3, stride=2, padding=1)\n",
    "        self.conv3 = nn.Conv2d(16, 10, kernel_size=3, stride=2, padding=1)\n",
    "        \n",
    "    def forward(self, xb):\n",
    "        xb = F.relu(self.conv1(xb))\n",
    "        xb = F.relu(self.conv2(xb))\n",
    "        xb = F.relu(self.conv3(xb))\n",
    "        xb = F.avg_pool2d(xb, 4)\n",
    "        return xb.view(-1, xb.size(1))"
   ]
  },
  {
   "cell_type": "code",
   "execution_count": 7,
   "metadata": {
    "scrolled": true
   },
   "outputs": [
    {
     "data": {
      "text/plain": [
       "MNIST_CNN(\n",
       "  (conv1): Conv2d(1, 16, kernel_size=(3, 3), stride=(2, 2), padding=(1, 1))\n",
       "  (conv2): Conv2d(16, 16, kernel_size=(3, 3), stride=(2, 2), padding=(1, 1))\n",
       "  (conv3): Conv2d(16, 10, kernel_size=(3, 3), stride=(2, 2), padding=(1, 1))\n",
       ")"
      ]
     },
     "execution_count": 7,
     "metadata": {},
     "output_type": "execute_result"
    }
   ],
   "source": [
    "model = MNIST_CNN()\n",
    "model.to(device)\n"
   ]
  },
  {
   "cell_type": "code",
   "execution_count": 8,
   "metadata": {},
   "outputs": [],
   "source": [
    "criterion = nn.CrossEntropyLoss()\n",
    "optimizer = optim.SGD(model.parameters(), lr=0.001, momentum=0.5)"
   ]
  },
  {
   "cell_type": "code",
   "execution_count": 9,
   "metadata": {
    "scrolled": true
   },
   "outputs": [
    {
     "name": "stdout",
     "output_type": "stream",
     "text": [
      "Epoch: 0, Train Loss: 2.2698\n",
      "Epoch: 0, Val Loss: 4.2767, Val Acc: 28.6100%\n",
      "Epoch: 1, Train Loss: 1.5638\n",
      "Epoch: 1, Val Loss: 2.5074, Val Acc: 59.7900%\n",
      "Epoch: 2, Train Loss: 1.0278\n",
      "Epoch: 2, Val Loss: 1.6604, Val Acc: 73.6200%\n",
      "Epoch: 3, Train Loss: 0.7572\n",
      "Epoch: 3, Val Loss: 1.3406, Val Acc: 79.5200%\n",
      "Epoch: 4, Train Loss: 0.6439\n",
      "Epoch: 4, Val Loss: 1.1925, Val Acc: 81.5400%\n",
      "Epoch: 5, Train Loss: 0.5675\n",
      "Epoch: 5, Val Loss: 1.0278, Val Acc: 84.1200%\n",
      "Epoch: 6, Train Loss: 0.5052\n",
      "Epoch: 6, Val Loss: 0.8956, Val Acc: 86.8200%\n",
      "Epoch: 7, Train Loss: 0.4581\n",
      "Epoch: 7, Val Loss: 0.8103, Val Acc: 88.0100%\n",
      "Epoch: 8, Train Loss: 0.4222\n",
      "Epoch: 8, Val Loss: 0.8439, Val Acc: 87.0700%\n",
      "Epoch: 9, Train Loss: 0.3941\n",
      "Epoch: 9, Val Loss: 0.7319, Val Acc: 89.1600%\n",
      "Epoch: 10, Train Loss: 0.3747\n",
      "Epoch: 10, Val Loss: 0.6930, Val Acc: 89.9500%\n",
      "Epoch: 11, Train Loss: 0.3577\n",
      "Epoch: 11, Val Loss: 0.6975, Val Acc: 89.7600%\n",
      "Epoch: 12, Train Loss: 0.3447\n",
      "Epoch: 12, Val Loss: 0.6250, Val Acc: 90.7600%\n",
      "Epoch: 13, Train Loss: 0.3316\n",
      "Epoch: 13, Val Loss: 0.6137, Val Acc: 91.2700%\n",
      "Epoch: 14, Train Loss: 0.3214\n",
      "Epoch: 14, Val Loss: 0.6334, Val Acc: 90.9000%\n",
      "Epoch: 15, Train Loss: 0.3135\n",
      "Epoch: 15, Val Loss: 0.5556, Val Acc: 91.6600%\n",
      "Epoch: 16, Train Loss: 0.3035\n",
      "Epoch: 16, Val Loss: 0.5568, Val Acc: 91.7900%\n",
      "Epoch: 17, Train Loss: 0.2983\n",
      "Epoch: 17, Val Loss: 0.5845, Val Acc: 91.6900%\n",
      "Epoch: 18, Train Loss: 0.2904\n",
      "Epoch: 18, Val Loss: 0.5478, Val Acc: 92.1600%\n",
      "Epoch: 19, Train Loss: 0.2842\n",
      "Epoch: 19, Val Loss: 0.5300, Val Acc: 92.2700%\n",
      "Epoch: 20, Train Loss: 0.2797\n",
      "Epoch: 20, Val Loss: 0.5820, Val Acc: 91.0700%\n",
      "Epoch: 21, Train Loss: 0.2726\n",
      "Epoch: 21, Val Loss: 0.5099, Val Acc: 92.7900%\n",
      "Epoch: 22, Train Loss: 0.2698\n",
      "Epoch: 22, Val Loss: 0.5047, Val Acc: 92.6700%\n",
      "Epoch: 23, Train Loss: 0.2649\n",
      "Epoch: 23, Val Loss: 0.5224, Val Acc: 92.2000%\n",
      "Epoch: 24, Train Loss: 0.2599\n",
      "Epoch: 24, Val Loss: 0.5279, Val Acc: 92.3500%\n",
      "Epoch: 25, Train Loss: 0.2574\n",
      "Epoch: 25, Val Loss: 0.4820, Val Acc: 92.7700%\n",
      "Epoch: 26, Train Loss: 0.2524\n",
      "Epoch: 26, Val Loss: 0.4679, Val Acc: 93.1800%\n",
      "Epoch: 27, Train Loss: 0.2468\n",
      "Epoch: 27, Val Loss: 0.4626, Val Acc: 93.2600%\n",
      "Epoch: 28, Train Loss: 0.2437\n",
      "Epoch: 28, Val Loss: 0.4865, Val Acc: 93.0600%\n",
      "Epoch: 29, Train Loss: 0.2400\n",
      "Epoch: 29, Val Loss: 0.4775, Val Acc: 92.9400%\n",
      "Finished Training\n"
     ]
    }
   ],
   "source": [
    "for epoch in range(30): \n",
    "\n",
    "    train_loss = 0\n",
    "    model.train()\n",
    "    for i, data in enumerate(trainloader):\n",
    "        inputs, labels = data[0].to(device), data[1].to(device)\n",
    "\n",
    "        optimizer.zero_grad()\n",
    "\n",
    "        outputs = model(inputs)\n",
    "        loss = criterion(outputs, labels) \n",
    "        loss.backward()\n",
    "        optimizer.step()\n",
    "\n",
    "        train_loss += loss.item() * batch_size\n",
    "    print('Epoch: {}, Train Loss: {:.4f}'.format(epoch, train_loss/len(trainset)))\n",
    "\n",
    "    val_loss = 0\n",
    "    val_acc = 0\n",
    "    model.eval()\n",
    "\n",
    "    with torch.no_grad():\n",
    "        for i, data in enumerate(valloader):\n",
    "            inputs, labels = data[0].to(device), data[1].to(device)\n",
    "            outputs = model(inputs)\n",
    "            val_loss += criterion(outputs, labels).item() * batch_size * 2\n",
    "            _, predicted = torch.max(outputs.data, 1)\n",
    "            val_acc += (predicted == labels).sum().item()\n",
    "    print('Epoch: {}, Val Loss: {:.4f}, Val Acc: {:.4f}%'.format(epoch, val_loss/len(valset), val_acc/len(valset)*100))\n",
    "\n",
    "print('Finished Training')"
   ]
  },
  {
   "cell_type": "code",
   "execution_count": 10,
   "metadata": {
    "pycharm": {
     "name": "#%%\n"
    }
   },
   "outputs": [],
   "source": [
    "torch.save(model.state_dict(), save_dir / \"pretrained_MNIST_CNN.pth\")"
   ]
  },
  {
   "cell_type": "markdown",
   "source": [
    "# Extract GAP layer outputs"
   ],
   "metadata": {
    "collapsed": false,
    "pycharm": {
     "name": "#%% md\n"
    }
   }
  },
  {
   "cell_type": "code",
   "execution_count": null,
   "outputs": [],
   "source": [
    "model.eval()"
   ],
   "metadata": {
    "collapsed": false,
    "pycharm": {
     "name": "#%%\n"
    }
   }
  },
  {
   "cell_type": "code",
   "execution_count": null,
   "outputs": [],
   "source": [
    "x_extract = {'train': np.empty((len(trainset), 10)), 'val': np.empty((len(valset), 10))} "
   ],
   "metadata": {
    "collapsed": false,
    "pycharm": {
     "name": "#%%\n"
    }
   }
  },
  {
   "cell_type": "code",
   "execution_count": null,
   "outputs": [],
   "source": [
    "y_extract = {'train': np.empty(len(trainset)), 'val': np.empty(len(valset))} "
   ],
   "metadata": {
    "collapsed": false,
    "pycharm": {
     "name": "#%%\n"
    }
   }
  },
  {
   "cell_type": "code",
   "execution_count": null,
   "outputs": [],
   "source": [
    "dataloader = {'train': trainloader, 'val': valloader}"
   ],
   "metadata": {
    "collapsed": false,
    "pycharm": {
     "name": "#%%\n"
    }
   }
  },
  {
   "cell_type": "code",
   "execution_count": null,
   "outputs": [],
   "source": [
    "with torch.no_grad():\n",
    "    for phase in ('train', 'val'):\n",
    "        for i, (inputs, labels) in enumerate(dataloader[phase]):\n",
    "            outputs = model(inputs.to(device))\n",
    "            x_extract[phase][(i*batch_size):(i*batch_size)+inputs.size(0)] = outputs.cpu().numpy()\n",
    "            y_extract[phase][(i*batch_size):(i*batch_size)+inputs.size(0)] = labels.cpu().numpy()"
   ],
   "metadata": {
    "collapsed": false,
    "pycharm": {
     "name": "#%%\n"
    }
   }
  },
  {
   "cell_type": "code",
   "execution_count": null,
   "outputs": [],
   "source": [
    "with open(save_dir / 'x_extract.pkl', 'wb') as f_x, open(save_dir / 'y_extract.pkl', 'wb') as f_y:\n",
    "    pickle.dump(x_extract, f_x)\n",
    "    pickle.dump(y_extract, f_y)"
   ],
   "metadata": {
    "collapsed": false,
    "pycharm": {
     "name": "#%%\n"
    }
   }
  }
 ],
 "metadata": {
  "kernelspec": {
   "display_name": "Python 3",
   "language": "python",
   "name": "python3"
  },
  "language_info": {
   "codemirror_mode": {
    "name": "ipython",
    "version": 3
   },
   "file_extension": ".py",
   "mimetype": "text/x-python",
   "name": "python",
   "nbconvert_exporter": "python",
   "pygments_lexer": "ipython3",
   "version": "3.7.3"
  },
  "pycharm": {
   "stem_cell": {
    "cell_type": "raw",
    "source": [],
    "metadata": {
     "collapsed": false
    }
   }
  }
 },
 "nbformat": 4,
 "nbformat_minor": 2
}
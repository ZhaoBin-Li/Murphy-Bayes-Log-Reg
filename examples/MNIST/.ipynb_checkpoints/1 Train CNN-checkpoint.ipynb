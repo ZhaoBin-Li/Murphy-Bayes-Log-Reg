{
 "cells": [
  {
   "cell_type": "markdown",
   "metadata": {},
   "source": [
    "### Trains a CNN using pytorch on MNIST dataset\n",
    "\n",
    "References: https://pytorch.org/tutorials/beginner/nn_tutorial.html, \n",
    "https://pytorch.org/tutorials/beginner/blitz/cifar10_tutorial.html#sphx-glr-beginner-blitz-cifar10-tutorial-py,\n",
    "https://github.com/pytorch/examples/blob/master/mnist/main.py"
   ]
  },
  {
   "cell_type": "code",
   "execution_count": 1,
   "metadata": {},
   "outputs": [],
   "source": [
    "import os\n",
    "from pathlib import Path\n",
    "\n",
    "import matplotlib.pyplot as plt\n",
    "import numpy as np\n",
    "import torch\n",
    "import torch.nn as nn\n",
    "import torch.nn.functional as F\n",
    "import torch.optim as optim\n",
    "import torchvision\n",
    "import torchvision.transforms as transforms\n",
    "import pickle"
   ]
  },
  {
   "cell_type": "code",
   "execution_count": 2,
   "metadata": {
    "pycharm": {
     "name": "#%%\n"
    }
   },
   "outputs": [],
   "source": [
    "save_dir = Path(\"pretrained\")\n",
    "os.makedirs(save_dir, exist_ok=True)\n",
    "\n",
    "path_to_mnist = Path('dataset')\n",
    "\n",
    "device = torch.device(\n",
    "    \"cuda\") if torch.cuda.is_available() else torch.device(\"cpu\")\n"
   ]
  },
  {
   "cell_type": "code",
   "execution_count": 3,
   "metadata": {},
   "outputs": [],
   "source": [
    "batch_size = 32\n",
    "transform = transforms.ToTensor()\n",
    "trainset = torchvision.datasets.MNIST(path_to_mnist, train=True,\n",
    "                                        download=True, transform=transform)\n",
    "trainloader = torch.utils.data.DataLoader(trainset, batch_size=batch_size,\n",
    "                                         shuffle=True, num_workers=1)\n",
    "\n",
    "valset = torchvision.datasets.MNIST(path_to_mnist, download=True, \n",
    "                                    train=False, transform=transform)\n",
    "valloader = torch.utils.data.DataLoader(valset, batch_size=batch_size,\n",
    "                                         shuffle=False, num_workers=1)\n"
   ]
  },
  {
   "cell_type": "code",
   "execution_count": 4,
   "metadata": {},
   "outputs": [],
   "source": [
    "dataiter = iter(trainloader)\n",
    "images, labels = dataiter.next()"
   ]
  },
  {
   "cell_type": "code",
   "execution_count": 5,
   "metadata": {
    "pycharm": {
     "name": "#%%\n"
    }
   },
   "outputs": [
    {
     "data": {
      "image/png": "[encoded data removed]",
      "text/plain": [
       "<Figure size 432x288 with 1 Axes>"
      ]
     },
     "metadata": {
      "needs_background": "light"
     },
     "output_type": "display_data"
    },
    {
     "name": "stdout",
     "output_type": "stream",
     "text": [
      "tensor([4, 8, 5, 7, 3, 0, 0, 3, 5, 5, 2, 0, 6, 2, 8, 9, 2, 5, 7, 3, 9, 9, 4, 1,\n",
      "        7, 2, 4, 2, 4, 1, 5, 8])\n"
     ]
    }
   ],
   "source": [
    "def show(img):\n",
    "    img = np.transpose(img, (1,2,0))\n",
    "    plt.imshow(img, cmap=\"gray\")\n",
    "    plt.show()\n",
    "    \n",
    "show(torchvision.utils.make_grid(images))\n",
    "print(labels)"
   ]
  },
  {
   "cell_type": "code",
   "execution_count": 6,
   "metadata": {},
   "outputs": [],
   "source": [
    "class MNIST_CNN(nn.Module):\n",
    "    def __init__(self):\n",
    "        super().__init__()\n",
    "        self.conv1 = nn.Conv2d(1, 16, kernel_size=3, stride=2, padding=1)\n",
    "        self.conv2 = nn.Conv2d(16, 16, kernel_size=3, stride=2, padding=1)\n",
    "        self.conv3 = nn.Conv2d(16, 10, kernel_size=3, stride=2, padding=1)\n",
    "        \n",
    "    def forward(self, xb):\n",
    "        xb = F.relu(self.conv1(xb))\n",
    "        xb = F.relu(self.conv2(xb))\n",
    "        xb = F.relu(self.conv3(xb))\n",
    "        xb = F.avg_pool2d(xb, 4)\n",
    "        return xb.view(-1, xb.size(1))"
   ]
  },
  {
   "cell_type": "code",
   "execution_count": 7,
   "metadata": {
    "scrolled": true
   },
   "outputs": [
    {
     "data": {
      "text/plain": [
       "MNIST_CNN(\n",
       "  (conv1): Conv2d(1, 16, kernel_size=(3, 3), stride=(2, 2), padding=(1, 1))\n",
       "  (conv2): Conv2d(16, 16, kernel_size=(3, 3), stride=(2, 2), padding=(1, 1))\n",
       "  (conv3): Conv2d(16, 10, kernel_size=(3, 3), stride=(2, 2), padding=(1, 1))\n",
       ")"
      ]
     },
     "execution_count": 7,
     "metadata": {},
     "output_type": "execute_result"
    }
   ],
   "source": [
    "model = MNIST_CNN()\n",
    "model.to(device)\n"
   ]
  },
  {
   "cell_type": "code",
   "execution_count": 8,
   "metadata": {},
   "outputs": [],
   "source": [
    "criterion = nn.CrossEntropyLoss()\n",
    "optimizer = optim.SGD(model.parameters(), lr=0.01, momentum=0.5)"
   ]
  },
  {
   "cell_type": "code",
   "execution_count": 9,
   "metadata": {
    "scrolled": true
   },
   "outputs": [
    {
     "name": "stdout",
     "output_type": "stream",
     "text": [
      "Epoch: 0, Train Loss: 2.2893\n",
      "Epoch: 0, Val Loss: 4.4723, Val Acc: 24.6100%\n",
      "Epoch: 1, Train Loss: 1.6998\n",
      "Epoch: 1, Val Loss: 2.6880, Val Acc: 57.0100%\n",
      "Epoch: 2, Train Loss: 1.1333\n",
      "Epoch: 2, Val Loss: 1.8476, Val Acc: 71.5400%\n",
      "Epoch: 3, Train Loss: 0.7874\n",
      "Epoch: 3, Val Loss: 1.3459, Val Acc: 79.3100%\n",
      "Epoch: 4, Train Loss: 0.6210\n",
      "Epoch: 4, Val Loss: 1.1631, Val Acc: 80.9500%\n",
      "Epoch: 5, Train Loss: 0.5270\n",
      "Epoch: 5, Val Loss: 0.9551, Val Acc: 86.5200%\n",
      "Epoch: 6, Train Loss: 0.4652\n",
      "Epoch: 6, Val Loss: 0.8318, Val Acc: 87.6700%\n",
      "Epoch: 7, Train Loss: 0.4203\n",
      "Epoch: 7, Val Loss: 0.7274, Val Acc: 89.2500%\n",
      "Epoch: 8, Train Loss: 0.3867\n",
      "Epoch: 8, Val Loss: 0.6662, Val Acc: 90.0100%\n",
      "Epoch: 9, Train Loss: 0.3612\n",
      "Epoch: 9, Val Loss: 0.6564, Val Acc: 89.8000%\n",
      "Epoch: 10, Train Loss: 0.3374\n",
      "Epoch: 10, Val Loss: 0.6051, Val Acc: 91.2000%\n",
      "Epoch: 11, Train Loss: 0.3189\n",
      "Epoch: 11, Val Loss: 0.6031, Val Acc: 91.2200%\n",
      "Epoch: 12, Train Loss: 0.3035\n",
      "Epoch: 12, Val Loss: 0.5561, Val Acc: 92.0200%\n",
      "Epoch: 13, Train Loss: 0.2905\n",
      "Epoch: 13, Val Loss: 0.5765, Val Acc: 91.7500%\n",
      "Epoch: 14, Train Loss: 0.2800\n",
      "Epoch: 14, Val Loss: 0.5410, Val Acc: 92.2600%\n",
      "Epoch: 15, Train Loss: 0.2695\n",
      "Epoch: 15, Val Loss: 0.5207, Val Acc: 92.3500%\n",
      "Epoch: 16, Train Loss: 0.2623\n",
      "Epoch: 16, Val Loss: 0.4733, Val Acc: 93.1900%\n",
      "Epoch: 17, Train Loss: 0.2545\n",
      "Epoch: 17, Val Loss: 0.4773, Val Acc: 93.0100%\n",
      "Epoch: 18, Train Loss: 0.2482\n",
      "Epoch: 18, Val Loss: 0.4806, Val Acc: 92.7900%\n",
      "Epoch: 19, Train Loss: 0.2408\n",
      "Epoch: 19, Val Loss: 0.4560, Val Acc: 93.3500%\n",
      "Finished Training\n"
     ]
    }
   ],
   "source": [
    "for epoch in range(20): \n",
    "\n",
    "    train_loss = 0\n",
    "    model.train()\n",
    "    for i, data in enumerate(trainloader):\n",
    "        inputs, labels = data[0].to(device), data[1].to(device)\n",
    "\n",
    "        optimizer.zero_grad()\n",
    "\n",
    "        outputs = model(inputs)\n",
    "        loss = criterion(outputs, labels) \n",
    "        loss.backward()\n",
    "        optimizer.step()\n",
    "\n",
    "        train_loss += loss.item() * batch_size\n",
    "    print('Epoch: {}, Train Loss: {:.4f}'.format(epoch, train_loss/len(trainset)))\n",
    "\n",
    "    val_loss = 0\n",
    "    val_acc = 0\n",
    "    model.eval()\n",
    "\n",
    "    with torch.no_grad():\n",
    "        for i, data in enumerate(valloader):\n",
    "            inputs, labels = data[0].to(device), data[1].to(device)\n",
    "            outputs = model(inputs)\n",
    "            val_loss += criterion(outputs, labels).item() * batch_size * 2\n",
    "            _, predicted = torch.max(outputs.data, 1)\n",
    "            val_acc += (predicted == labels).sum().item()\n",
    "    print('Epoch: {}, Val Loss: {:.4f}, Val Acc: {:.4f}%'.format(epoch, val_loss/len(valset), val_acc/len(valset)*100))\n",
    "\n",
    "print('Finished Training')"
   ]
  },
  {
   "cell_type": "code",
   "execution_count": 10,
   "metadata": {
    "pycharm": {
     "name": "#%%\n"
    }
   },
   "outputs": [],
   "source": [
    "torch.save(model.state_dict(), save_dir / \"pretrained_MNIST_CNN.pth\")"
   ]
  },
  {
   "cell_type": "markdown",
   "metadata": {
    "pycharm": {
     "name": "#%% md\n"
    }
   },
   "source": [
    "# Extract inputs to the last Fully Connected layer "
   ]
  },
  {
   "cell_type": "code",
   "execution_count": 11,
   "metadata": {
    "pycharm": {
     "name": "#%%\n"
    }
   },
   "outputs": [
    {
     "data": {
      "text/plain": [
       "MNIST_CNN(\n",
       "  (conv1): Conv2d(1, 16, kernel_size=(3, 3), stride=(2, 2), padding=(1, 1))\n",
       "  (conv2): Conv2d(16, 16, kernel_size=(3, 3), stride=(2, 2), padding=(1, 1))\n",
       "  (conv3): Conv2d(16, 10, kernel_size=(3, 3), stride=(2, 2), padding=(1, 1))\n",
       ")"
      ]
     },
     "execution_count": 11,
     "metadata": {},
     "output_type": "execute_result"
    }
   ],
   "source": [
    "model.eval()"
   ]
  },
  {
   "cell_type": "code",
   "execution_count": 12,
   "metadata": {
    "pycharm": {
     "name": "#%%\n"
    }
   },
   "outputs": [],
   "source": [
    "x_extract = {'train': np.empty((len(trainset), 10)), 'val': np.empty((len(valset), 10))} "
   ]
  },
  {
   "cell_type": "code",
   "execution_count": 13,
   "metadata": {
    "pycharm": {
     "name": "#%%\n"
    }
   },
   "outputs": [],
   "source": [
    "y_extract = {'train': np.empty(len(trainset)), 'val': np.empty(len(valset))} "
   ]
  },
  {
   "cell_type": "code",
   "execution_count": 14,
   "metadata": {
    "pycharm": {
     "name": "#%%\n"
    }
   },
   "outputs": [],
   "source": [
    "dataloader = {'train': trainloader, 'val': valloader}"
   ]
  },
  {
   "cell_type": "code",
   "execution_count": 15,
   "metadata": {
    "pycharm": {
     "name": "#%%\n"
    }
   },
   "outputs": [],
   "source": [
    "with torch.no_grad():\n",
    "    for phase in ('train', 'val'):\n",
    "        for i, (inputs, labels) in enumerate(dataloader[phase]):\n",
    "            outputs = model(inputs.to(device))\n",
    "            x_extract[phase][(i*batch_size):(i*batch_size)+inputs.size(0)] = outputs.cpu().numpy()\n",
    "            y_extract[phase][(i*batch_size):(i*batch_size)+inputs.size(0)] = labels.cpu().numpy()"
   ]
  },
  {
   "cell_type": "code",
   "execution_count": 16,
   "metadata": {
    "pycharm": {
     "name": "#%%\n"
    }
   },
   "outputs": [],
   "source": [
    "with open(save_dir / 'x_extract.pkl', 'wb') as f_x, open(save_dir / 'y_extract.pkl', 'wb') as f_y:\n",
    "    pickle.dump(x_extract, f_x)\n",
    "    pickle.dump(y_extract, f_y)"
   ]
  }
 ],
 "metadata": {
  "kernelspec": {
   "display_name": "Python 3",
   "language": "python",
   "name": "python3"
  },
  "language_info": {
   "codemirror_mode": {
    "name": "ipython",
    "version": 3
   },
   "file_extension": ".py",
   "mimetype": "text/x-python",
   "name": "python",
   "nbconvert_exporter": "python",
   "pygments_lexer": "ipython3",
   "version": "3.7.3"
  },
  "pycharm": {
   "stem_cell": {
    "cell_type": "raw",
    "metadata": {
     "collapsed": false
    },
    "source": []
   }
  }
 },
 "nbformat": 4,
 "nbformat_minor": 2
}

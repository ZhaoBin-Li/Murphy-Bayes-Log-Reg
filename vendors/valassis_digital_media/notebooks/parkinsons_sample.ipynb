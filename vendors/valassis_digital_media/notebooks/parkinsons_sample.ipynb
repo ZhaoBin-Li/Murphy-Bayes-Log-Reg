{
 "cells": [
  {
   "cell_type": "code",
   "execution_count": 37,
   "metadata": {
    "collapsed": true,
    "deletable": true,
    "editable": true
   },
   "outputs": [],
   "source": [
    "import numpy as np\n",
    "import copy\n",
    "import bayes_logistic as bl\n",
    "import pandas as pd"
   ]
  },
  {
   "cell_type": "code",
   "execution_count": 38,
   "metadata": {
    "collapsed": true,
    "deletable": true,
    "editable": true
   },
   "outputs": [],
   "source": [
    "# Download and process data\n",
    "\n",
    "url=\"http://archive.ics.uci.edu/ml/machine-learning-databases/parkinsons/parkinsons.data\"\n",
    "df = pd.read_csv(url)\n",
    "y = df.values[:, 17] \n",
    "y = y.astype(int)\n",
    "X = np.delete(df.values, 17, 1)\n",
    "X = np.delete(X, 0, 1)\n",
    "\n",
    "n_samples, n_features = X.shape\n",
    "\n",
    "# Add bias column to the feature matrix\n",
    "B = np.ones((n_samples, n_features + 1)) \n",
    "B[:, 1:] = X \n",
    "X = B \n"
   ]
  },
  {
   "cell_type": "code",
   "execution_count": 39,
   "metadata": {
    "collapsed": true,
    "deletable": true,
    "editable": true
   },
   "outputs": [],
   "source": [
    "# Perform feature scaling using mean normalization\n",
    "for col in range(1, n_features):\n",
    "    v = X[:, col]\n",
    "    mean = v.mean()\n",
    "    std = v.std()\n",
    "    X[:, col] = (X[:, col] - mean)/std"
   ]
  },
  {
   "cell_type": "code",
   "execution_count": 40,
   "metadata": {
    "collapsed": true,
    "deletable": true,
    "editable": true
   },
   "outputs": [],
   "source": [
    "# The data is divided into training and test sets\n",
    "TRAINING_PERCENTAGE = 0.7 \n",
    "TEST_PERCENTAGE  = 0.3 \n",
    "\n",
    "training_cnt = int(n_samples*TRAINING_PERCENTAGE)\n",
    "training_X = X[:training_cnt,:]\n",
    "training_y = y[:training_cnt]\n",
    "\n",
    "test_cnt = int(n_samples*TEST_PERCENTAGE)\n",
    "test_X = X[training_cnt:,:]\n",
    "test_y = y[training_cnt:]\n"
   ]
  },
  {
   "cell_type": "code",
   "execution_count": 41,
   "metadata": {
    "collapsed": true,
    "deletable": true,
    "editable": true
   },
   "outputs": [],
   "source": [
    "# Train the model \n",
    "w_prior = np.zeros(n_features + 1)\n",
    "H_prior = np.diag(np.ones(n_features + 1))*0.001\n",
    "\n",
    "GD_BATCH_SIZE = training_cnt\n",
    "ITERATION_CNT = 5\n",
    "w = training_X.shape[1]\n",
    "w_prior = np.zeros(w)\n",
    "H_prior = np.diag(np.ones(w))*0.001\n",
    "\n",
    "for i in range(0, ITERATION_CNT):\n",
    "    for idx in range(0, training_cnt, GD_BATCH_SIZE):\n",
    "        batch_size = GD_BATCH_SIZE if (idx + GD_BATCH_SIZE) < training_cnt else training_cnt - idx\n",
    "        w_posterior, H_posterior = bl.fit_bayes_logistic(training_y[idx:batch_size],\n",
    "                                                     training_X[idx:batch_size,:],\n",
    "                                                     w_prior, H_prior, solver = 'BFGS')\n",
    "        w_prior = copy.copy(w_posterior)\n",
    "        H_prior = copy.copy(H_posterior)\n",
    "\n",
    "w_fit = w_prior\n",
    "H_fit = H_prior"
   ]
  },
  {
   "cell_type": "code",
   "execution_count": 42,
   "metadata": {
    "collapsed": false,
    "deletable": true,
    "editable": true
   },
   "outputs": [
    {
     "name": "stdout",
     "output_type": "stream",
     "text": [
      "Prediction Accuracy for test set 60.34\n"
     ]
    }
   ],
   "source": [
    "# Perform Test\n",
    "y_cnt = 0\n",
    "test_probs = bl.bayes_logistic_prob(test_X, w_fit, H_fit)\n",
    "prediction_cnt = 0\n",
    "for idx in range(0, test_cnt):\n",
    "    if test_probs[idx] > 0.5 and test_y[idx] == 1:\n",
    "        prediction_cnt += 1\n",
    "    y_cnt += 1\n",
    "\n",
    "prediction_accuracy = (100.0*prediction_cnt)/y_cnt\n",
    "print \"Prediction Accuracy for test set %.02f\" % prediction_accuracy"
   ]
  }
 ],
 "metadata": {
  "kernelspec": {
   "display_name": "Python 2",
   "language": "python",
   "name": "python2"
  },
  "language_info": {
   "codemirror_mode": {
    "name": "ipython",
    "version": 2
   },
   "file_extension": ".py",
   "mimetype": "text/x-python",
   "name": "python",
   "nbconvert_exporter": "python",
   "pygments_lexer": "ipython2",
   "version": "2.7.12"
  }
 },
 "nbformat": 4,
 "nbformat_minor": 2
}
